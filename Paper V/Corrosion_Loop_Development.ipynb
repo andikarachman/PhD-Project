{
 "cells": [
  {
   "cell_type": "code",
   "execution_count": 1,
   "metadata": {
    "collapsed": true
   },
   "outputs": [],
   "source": [
    "import xlrd\n",
    "import pandas as pd\n",
    "import numpy as np\n",
    "import matplotlib.pyplot as plt\n",
    "import seaborn as sns\n",
    "from sklearn.cluster import KMeans\n",
    "import warnings\n",
    "warnings.filterwarnings('ignore')\n",
    "\n",
    "%matplotlib inline"
   ]
  },
  {
   "cell_type": "markdown",
   "metadata": {},
   "source": [
    "# 1.0. Parsing Excel File "
   ]
  },
  {
   "cell_type": "code",
   "execution_count": 2,
   "metadata": {
    "collapsed": true
   },
   "outputs": [],
   "source": [
    "#Converting excel file to pandas dataframe\n",
    "book = xlrd.open_workbook(\"Line_list.xlsx\")\n",
    "sheet = book.sheet_by_name(\"Sheet4\")\n",
    "features = [\"\", \"UNIT1\", \"SECTION\", \"PIPING_GROUP\", \"OLD_PIPING_GROUP\", \"DESCRIPTION\", \"DIAM(INCHES)\", \"DIAM(MM)\", \"UNIT\", \"FLUID_CODE\", \"LINE_NUMBER\", \"PIPING_SPEC\", \"FROM\", \"TO\", \"FLUID\", \"PHASE\", \"DENSITY(KG/M3)\", \"MASS_RATE(KG/H)\", \"OPERATING_PRESS(BARG)\", \"OPERATING_TEMP(C)\", \"DESIGN_PRESS(BARG)\", \"DESIGN_TEMP(C)\", \"ALT1_OTHER_OP_PRESS(BARG)\", \"ALT1_OTHER_OP_TEMP(C)\", \"ALT1_OTHER_DES_PRESS(BARG)\", \"ALT1_OTHER_DES_TEMP(C)\", \"ALT2_OTHER_OP_PRESS(BARG)\", \"ALT2_OTHER_OP_TEMP(C)\", \"ALT2_OTHER_DES_PRESS(BARG)\", \"ALT2_OTHER_DES_TEMP(C)\",\"DESIGN_COND\", \"TENS_STRENGTH(MPA)\", \"YIELD_STRENGTH(MPA)\", \"1/3_TS\", \"2/3_TS\", \"TEMP_CORR\", \"ALLOW_STRESS(MPA)\", \"PIPING_SCH\", \"NOM_THCK(MM)\", \"MIN_THCK_B313\", \"ALARM_THCK\", \"MIN_REQ_THCK\", \"COR_AL(MM)\", \"INSULATION_CODE\", \"INSULATION_LIM\", \"INSULATION_THCK(MM)\", \"TRACING_SIZE\", \"TRACING_NO\", \"TRACING_T_MAIN\", \"PAINT\", \"PAINT2\", \"TRT_TH\", \"TRT_CHM\", \"TEST_PRESSURE_TYPE\", \"TEST_PRESSURE_MIN(BARG)\", \"TEST_PRESSURE_MAX(BARG)\", \"PED_PHASE\", \"PED_GROUP\", \"PED_CATEGORY\", \"CANCELLED\", \"REV\", \"PID\", \"NOTES\", \"COMMENTS\", \"ASSUMPTIONS\", \"PAINT_FLAG\", \"P\"]\n",
    "data = []\n",
    "for i in range(sheet.nrows):\n",
    "    if i > 9:\n",
    "        data.append(sheet.row_values(i))\n",
    "original_piping_df = pd.DataFrame(data, columns = features)"
   ]
  },
  {
   "cell_type": "markdown",
   "metadata": {},
   "source": [
    "# 2.0. Data Preprocessing"
   ]
  },
  {
   "cell_type": "code",
   "execution_count": 3,
   "metadata": {
    "collapsed": true
   },
   "outputs": [],
   "source": [
    "#Removing unnecessary columns\n",
    "drop_features = [\"SECTION\", \"DESIGN_PRESS(BARG)\",\"DESIGN_TEMP(C)\", \"\", \"FLUID\", \"FROM\", \"TO\",\"UNIT1\", \"OLD_PIPING_GROUP\", \"DESCRIPTION\", \"DIAM(MM)\", \"DENSITY(KG/M3)\", \"MASS_RATE(KG/H)\", \"ALT1_OTHER_OP_PRESS(BARG)\", \"ALT1_OTHER_OP_TEMP(C)\", \"ALT1_OTHER_DES_PRESS(BARG)\", \"ALT1_OTHER_DES_TEMP(C)\", \"ALT2_OTHER_OP_PRESS(BARG)\", \"ALT2_OTHER_OP_TEMP(C)\", \"ALT2_OTHER_DES_PRESS(BARG)\", \"ALT2_OTHER_DES_TEMP(C)\",\"DESIGN_COND\", \"TENS_STRENGTH(MPA)\", \"YIELD_STRENGTH(MPA)\", \"1/3_TS\", \"2/3_TS\", \"TEMP_CORR\", \"ALLOW_STRESS(MPA)\", \"PIPING_SCH\", \"NOM_THCK(MM)\", \"MIN_THCK_B313\", \"ALARM_THCK\", \"MIN_REQ_THCK\", \"COR_AL(MM)\", \"INSULATION_LIM\", \"INSULATION_THCK(MM)\", \"TRACING_SIZE\", \"TRACING_NO\", \"TRACING_T_MAIN\", \"PAINT2\", \"TRT_TH\", \"TRT_CHM\", \"TEST_PRESSURE_TYPE\", \"TEST_PRESSURE_MIN(BARG)\", \"TEST_PRESSURE_MAX(BARG)\", \"PED_PHASE\", \"PED_GROUP\", \"PED_CATEGORY\", \"CANCELLED\", \"REV\", \"PID\", \"NOTES\", \"COMMENTS\", \"ASSUMPTIONS\", \"PAINT_FLAG\", \"P\"]\n",
    "piping_df = original_piping_df.drop(drop_features, axis = 1)"
   ]
  },
  {
   "cell_type": "code",
   "execution_count": 4,
   "metadata": {
    "collapsed": true
   },
   "outputs": [],
   "source": [
    "#Rearranging columns\n",
    "piping_df = piping_df[['DIAM(INCHES)', 'UNIT', 'FLUID_CODE', 'LINE_NUMBER','PIPING_SPEC', 'PHASE', 'OPERATING_PRESS(BARG)', 'OPERATING_TEMP(C)','INSULATION_CODE', 'PAINT', 'PIPING_GROUP']]"
   ]
  },
  {
   "cell_type": "code",
   "execution_count": 5,
   "metadata": {
    "collapsed": true
   },
   "outputs": [],
   "source": [
    "#Removing rows without piping group\n",
    "piping_df = piping_df.loc[piping_df[\"PIPING_GROUP\"] != \"\"]"
   ]
  },
  {
   "cell_type": "code",
   "execution_count": 6,
   "metadata": {
    "collapsed": true
   },
   "outputs": [],
   "source": [
    "#Removing piping with no operating pressure\n",
    "piping_df = piping_df.loc[(piping_df[\"OPERATING_PRESS(BARG)\"] != \"\")]\n",
    "piping_df = piping_df.loc[(piping_df[\"OPERATING_PRESS(BARG)\"] != \"-\")]"
   ]
  },
  {
   "cell_type": "code",
   "execution_count": 7,
   "metadata": {
    "collapsed": true
   },
   "outputs": [],
   "source": [
    "#Removing piping with no operating temperature\n",
    "piping_df = piping_df.loc[piping_df[\"OPERATING_TEMP(C)\"] != \"\"] "
   ]
  },
  {
   "cell_type": "code",
   "execution_count": 8,
   "metadata": {
    "collapsed": true
   },
   "outputs": [],
   "source": [
    "#Removing rows with no unit value\n",
    "piping_df = piping_df.loc[(piping_df[\"UNIT\"] != \"\")]"
   ]
  },
  {
   "cell_type": "code",
   "execution_count": 9,
   "metadata": {},
   "outputs": [
    {
     "data": {
      "text/plain": [
       "12"
      ]
     },
     "execution_count": 9,
     "metadata": {},
     "output_type": "execute_result"
    }
   ],
   "source": [
    "len(piping_df.loc[piping_df[\"PHASE\"] == \"\"])"
   ]
  },
  {
   "cell_type": "code",
   "execution_count": 10,
   "metadata": {
    "collapsed": true
   },
   "outputs": [],
   "source": [
    "#Filling piping without Phase value\n",
    "piping_df.loc[(piping_df[\"PIPING_GROUP\"] == \"IPC-HG-1031-04-BD20G\") & (piping_df[\"PHASE\"] == \"\"), \"PHASE\"] = \"V\"\n",
    "piping_df.loc[(piping_df[\"PIPING_GROUP\"] == \"IPC-HG-1031-08-BD20G\") & (piping_df[\"PHASE\"] == \"\"), \"PHASE\"] = \"V\"\n",
    "piping_df.loc[(piping_df[\"PIPING_GROUP\"] == \"IPC-HG-1031-11-DD20G\") & (piping_df[\"PHASE\"] == \"\"), \"PHASE\"] = \"V\"\n",
    "piping_df.loc[(piping_df[\"PIPING_GROUP\"] == \"IPC-HG-1031-12-ER20X\") & (piping_df[\"PHASE\"] == \"\"), \"PHASE\"] = \"V\""
   ]
  },
  {
   "cell_type": "code",
   "execution_count": 11,
   "metadata": {
    "collapsed": true
   },
   "outputs": [],
   "source": [
    "#Changing piping spec column to the real material name\n",
    "material_dict = {'AD20X': \"22Cr\", 'DD20H': \"22Cr\", 'BD20Y': \"22Cr\", 'AD20Y': \"22Cr\", 'BD20X': \"22Cr\", 'DD20X': \"22Cr\", 'AD20G': \"22Cr\",\n",
    "       'AD75X': \"25Cr\", 'AD75Y': \"25Cr\", 'FD20X': \"22Cr\", 'KD02X': \"25Cr\", 'DD20Y': \"22Cr\", 'ED20X': \"22Cr\", 'GD20X': \"25Cr\",\n",
    "       'BD20G': \"22Cr\", 'AS20X': \"SS316\", 'AT75X': \"Ti_Gr2\", 'BR20X': \"6Mo\", 'AD20P': \"22Cr\", 'AR20X': \"6Mo\", 'AR20Y': \"6Mo\",\n",
    "       'KD01X': \"25Cr\", 'DD20G': \"22Cr\", 'ED20G': \"22Cr\", 'FD20G': \"22Cr\", 'FR20X': \"6Mo\", 'KX02X': \"Ni625\", 'KX01X': \"Ni625\",\n",
    "       'FC11X': \"HSLA\", 'ER20X': \"6Mo\", 'DR20X': \"6Mo\", 'FC11P': \"HSLA\", 'FS20X': \"25Cr\", 'FD20S': \"22Cr\", 'BD20H': \"22Cr\",\n",
    "       'DD20P': \"22Cr\", 'BD20Z': \"22Cr\", 'AD20Z': \"22Cr\"}\n",
    "\n",
    "piping_df = piping_df.replace({\"PIPING_SPEC\": material_dict})"
   ]
  },
  {
   "cell_type": "code",
   "execution_count": 12,
   "metadata": {},
   "outputs": [
    {
     "data": {
      "text/plain": [
       "array(['N', 'I'], dtype=object)"
      ]
     },
     "execution_count": 12,
     "metadata": {},
     "output_type": "execute_result"
    }
   ],
   "source": [
    "#Changing insulation code column to insulation type\n",
    "insulation_dict = {\"N\": \"N\", 'P': \"N\", 'H': \"I\", 'I': \"I\", 'F3': \"I\", 'X': \"I\", 'Z': \"I\", 'HZ': \"I\", 'J': \"I\", 'JZF1': \"I\", 'JF1': \"I\", 'JF3': \"I\",\"F12\": \"I\",'ZF3': \"I\", 'IF1': \"I\", 'F1': \"I\", 'ZF1': \"I\", 'JX': \"I\", 'IZ': \"I\", 'IF3': \"I\", 'IZF3': \"I\", 'IZF1': \"I\",'HZF1': \"I\", 'HF1': \"I\", 'XF1': \"I\", 'JZ': \"I\", 'Y': \"I\", 'PF1': \"I\"}\n",
    "piping_df[\"INSULATION_CODE\"] = piping_df.INSULATION_CODE.map(insulation_dict)\n",
    "piping_df[\"INSULATION_CODE\"].unique()"
   ]
  },
  {
   "cell_type": "code",
   "execution_count": 13,
   "metadata": {
    "collapsed": true
   },
   "outputs": [],
   "source": [
    "#Convert string to float for columns containing numbers\n",
    "for col in piping_df.columns:\n",
    "    if col == \"UNIT\":\n",
    "        piping_df[col] = piping_df[col].apply(lambda x: str(x))\n",
    "    else:\n",
    "        try:\n",
    "            piping_df[col] = piping_df[col].astype(\"float\")\n",
    "        except(ValueError):\n",
    "            pass"
   ]
  },
  {
   "cell_type": "code",
   "execution_count": 14,
   "metadata": {
    "collapsed": true
   },
   "outputs": [],
   "source": [
    "#Removing the (.0) on unit column values\n",
    "piping_df[\"UNIT\"] = piping_df[\"UNIT\"].map(lambda x: x[0:4])"
   ]
  },
  {
   "cell_type": "code",
   "execution_count": 15,
   "metadata": {
    "collapsed": true
   },
   "outputs": [],
   "source": [
    "#Adding empty columns for label and corrosion loop group\n",
    "piping_df[\"LABEL\"] = np.NaN\n",
    "piping_df[\"CORROSION_LOOP\"] = str(np.NaN)"
   ]
  },
  {
   "cell_type": "code",
   "execution_count": 16,
   "metadata": {
    "collapsed": true
   },
   "outputs": [],
   "source": [
    "#Changing paint code to paint type (coated or not coated)\n",
    "paint_dict = {1:\"C\", \"2A\":\"C\", \"6A\":\"C\", \"NP\":\"NC\", \"\":\"C\"}\n",
    "piping_df = piping_df.replace({\"PAINT\": paint_dict})"
   ]
  },
  {
   "cell_type": "code",
   "execution_count": 17,
   "metadata": {},
   "outputs": [
    {
     "name": "stdout",
     "output_type": "stream",
     "text": [
      "<class 'pandas.core.frame.DataFrame'>\n",
      "Int64Index: 4418 entries, 0 to 5697\n",
      "Data columns (total 13 columns):\n",
      "DIAM(INCHES)             4418 non-null float64\n",
      "UNIT                     4418 non-null object\n",
      "FLUID_CODE               4418 non-null object\n",
      "LINE_NUMBER              4418 non-null object\n",
      "PIPING_SPEC              4418 non-null object\n",
      "PHASE                    4418 non-null object\n",
      "OPERATING_PRESS(BARG)    4418 non-null float64\n",
      "OPERATING_TEMP(C)        4418 non-null float64\n",
      "INSULATION_CODE          4418 non-null object\n",
      "PAINT                    4418 non-null object\n",
      "PIPING_GROUP             4418 non-null object\n",
      "LABEL                    0 non-null float64\n",
      "CORROSION_LOOP           4418 non-null object\n",
      "dtypes: float64(4), object(9)\n",
      "memory usage: 483.2+ KB\n"
     ]
    }
   ],
   "source": [
    "piping_df.info()"
   ]
  },
  {
   "cell_type": "code",
   "execution_count": 18,
   "metadata": {},
   "outputs": [
    {
     "name": "stdout",
     "output_type": "stream",
     "text": [
      "0 DIAM(INCHES)\n",
      "1 UNIT\n",
      "2 FLUID_CODE\n",
      "3 LINE_NUMBER\n",
      "4 PIPING_SPEC\n",
      "5 PHASE\n",
      "6 OPERATING_PRESS(BARG)\n",
      "7 OPERATING_TEMP(C)\n",
      "8 INSULATION_CODE\n",
      "9 PAINT\n",
      "10 PIPING_GROUP\n",
      "11 LABEL\n",
      "12 CORROSION_LOOP\n"
     ]
    }
   ],
   "source": [
    "for index,x in enumerate(piping_df.columns):\n",
    "    print(index,x)"
   ]
  },
  {
   "cell_type": "markdown",
   "metadata": {},
   "source": [
    "# 3.0. Corrosion Loops Development"
   ]
  },
  {
   "cell_type": "code",
   "execution_count": 19,
   "metadata": {
    "scrolled": true
   },
   "outputs": [
    {
     "name": "stdout",
     "output_type": "stream",
     "text": [
      "Number of piping groupings based on categorical boundary features: 180\n"
     ]
    }
   ],
   "source": [
    "# Creating piping groups based on categorical boundary features\n",
    "piping_groupings = piping_df.groupby(by =[\"UNIT\", \"FLUID_CODE\", \"PHASE\", \"PIPING_SPEC\", \"INSULATION_CODE\", \"PAINT\"], axis = 0)\n",
    "print (\"Number of piping groupings based on categorical boundary features: {}\".format(len(piping_groupings)))"
   ]
  },
  {
   "cell_type": "code",
   "execution_count": 20,
   "metadata": {
    "collapsed": true
   },
   "outputs": [],
   "source": [
    "# Creating piping groups based on numerical boudary features\n",
    "def groupings_function(data, key, values, temp_diff, press_diff):    \n",
    "    dataset = data.get_group(key)\n",
    "    data_ = dataset[[\"OPERATING_PRESS(BARG)\", \"OPERATING_TEMP(C)\"]]\n",
    "    ks = range(1,len(dataset) + 1)\n",
    "    for k in ks:\n",
    "        model = KMeans(n_clusters = k, random_state = 42)\n",
    "        model.fit(data_)\n",
    "        label = model.predict(data_)\n",
    "        inertia = np.nan_to_num(model.inertia_)\n",
    "        dataset.loc[:,\"LABEL\"] = label\n",
    "        dataset_grouped = dataset.groupby(\"LABEL\")\n",
    "        diff_temp = dataset_grouped[\"OPERATING_TEMP(C)\"].aggregate(np.max) - dataset_grouped[\"OPERATING_TEMP(C)\"].aggregate(np.min)\n",
    "        diff_press = dataset_grouped[\"OPERATING_PRESS(BARG)\"].aggregate(np.max) - dataset_grouped[\"OPERATING_PRESS(BARG)\"].aggregate(np.min)\n",
    "        if (diff_temp.max() < temp_diff) & (diff_press.max() < press_diff):\n",
    "            return dataset, np.mean(inertia)\n",
    "        elif k == ks:\n",
    "            return dataset, np.mean(inertia)\n",
    "        else:\n",
    "            pass\n",
    "\n",
    "def corrosion_loop(data, temp_diff, press_diff):\n",
    "    #Defining the corrosion loops\n",
    "    final_df = pd.DataFrame()\n",
    "    corrosion_loop_name = list()\n",
    "    inertia_list = list()\n",
    "    for key, values in data: \n",
    "        data_set, inertia = groupings_function(data, key, values, temp_diff, press_diff)\n",
    "        final_df = final_df.append(data_set)\n",
    "        inertia_list.append(inertia)\n",
    "    #Naming the corrosion loops\n",
    "    for index, row in final_df.iterrows():\n",
    "        row[12] = row[1] + \"-\" + row[2] + \"-\" + row[4] + \"-\" + row[5] + \"-\" + row[8] + \"-\" + str(row[9] + \"-\" + str(row[11]))\n",
    "        corrosion_loop_name.append(row[12])\n",
    "    final_df[\"CORROSION_LOOP\"] = corrosion_loop_name\n",
    "    number_of_corr_loop = len(final_df[\"CORROSION_LOOP\"].unique())\n",
    "    return final_df, np.sum(inertia_list)/number_of_corr_loop"
   ]
  },
  {
   "cell_type": "markdown",
   "metadata": {},
   "source": [
    "# 4.0. Case Study"
   ]
  },
  {
   "cell_type": "markdown",
   "metadata": {},
   "source": [
    "### Creating corrosion loops with 10 C and 1 barg as the maximum temperature and pressure difference, respectively"
   ]
  },
  {
   "cell_type": "code",
   "execution_count": 21,
   "metadata": {
    "collapsed": true
   },
   "outputs": [],
   "source": [
    "final_df, mean_inertia = corrosion_loop(piping_groupings, 10, 1)"
   ]
  },
  {
   "cell_type": "code",
   "execution_count": 22,
   "metadata": {},
   "outputs": [
    {
     "name": "stdout",
     "output_type": "stream",
     "text": [
      "Mean inertia: 1.217007694471235\n",
      "Total number of individual piping: 4418\n",
      "Number of corrosion loop: 435\n",
      "Percent of component reduction: 0.9015391579900407\n"
     ]
    },
    {
     "data": {
      "image/png": "[encoded data removed]",
      "text/plain": [
       "<Figure size 432x360 with 1 Axes>"
      ]
     },
     "metadata": {},
     "output_type": "display_data"
    }
   ],
   "source": [
    "print (\"Mean inertia: {}\".format(mean_inertia))\n",
    "print (\"Total number of individual piping: {}\".format(len(final_df)))\n",
    "print (\"Number of corrosion loop: {}\".format(len(final_df[\"CORROSION_LOOP\"].unique())))\n",
    "print (\"Percent of component reduction: {}\".format((len(final_df)-len(final_df[\"CORROSION_LOOP\"].unique()))/len(final_df)))\n",
    "\n",
    "X_axis = [\"Individual piping\",\"Corrosion loop\"]\n",
    "y_axis = [len(final_df), len(final_df[\"CORROSION_LOOP\"].unique())]\n",
    "\n",
    "fig, ax = plt.subplots(figsize=(6,5))\n",
    "sns.barplot(x=X_axis,y=y_axis, color=\"grey\")\n",
    "ax.set_ylabel(\"Count\")\n",
    "plt.savefig('bar.png', bbox_inches='tight')"
   ]
  },
  {
   "cell_type": "markdown",
   "metadata": {},
   "source": [
    "# 5.0. Verification of the Algorithm"
   ]
  },
  {
   "cell_type": "code",
   "execution_count": 23,
   "metadata": {
    "collapsed": true
   },
   "outputs": [],
   "source": [
    "def pressure_temperature_variance(df,feature):\n",
    "    max_press = df.groupby(feature)[\"OPERATING_PRESS(BARG)\"].aggregate(np.max)\n",
    "    min_press = df.groupby(feature)[\"OPERATING_PRESS(BARG)\"].aggregate(np.min)\n",
    "    diff_press_corrloop = (max_press - min_press)\n",
    "    max_diff_press_corrloop = diff_press_corrloop.max()\n",
    "    mean_diff_press_corrloop = diff_press_corrloop.mean()\n",
    "    std_diff_press_corrloop = diff_press_corrloop.std()\n",
    "    max_temp = df.groupby(feature)[\"OPERATING_TEMP(C)\"].aggregate(np.max)\n",
    "    min_temp = df.groupby(feature)[\"OPERATING_TEMP(C)\"].aggregate(np.min)\n",
    "    diff_temp_corrloop = (max_temp - min_temp)\n",
    "    max_diff_temp_corrloop = diff_temp_corrloop.max()\n",
    "    mean_diff_temp_corrloop = diff_temp_corrloop.mean()\n",
    "    std_diff_temp_corrloop = diff_temp_corrloop.std()\n",
    "    return max_diff_press_corrloop,mean_diff_press_corrloop,std_diff_press_corrloop,max_diff_temp_corrloop,mean_diff_temp_corrloop,std_diff_temp_corrloop"
   ]
  },
  {
   "cell_type": "code",
   "execution_count": 24,
   "metadata": {},
   "outputs": [
    {
     "name": "stdout",
     "output_type": "stream",
     "text": [
      "Corrosion loop pressure difference (max): 0.9999999999999996\n",
      "Corrosion loop pressure difference (mean): 0.07827586206896543\n",
      "Corrosion loop pressure difference (std): 0.2067813851300305\n",
      "\n",
      "Corrosion loop temperature difference (max): 9.0\n",
      "Corrosion loop temperature difference (mean): 0.1429885057471264\n",
      "Corrosion loop temperature difference (std): 0.7815058649289005\n"
     ]
    }
   ],
   "source": [
    "# Pressure and temperature variance for corrosion loop\n",
    "max_diff_press_corrloop,mean_diff_press_corrloop,std_diff_press_corrloop,max_diff_temp_corrloop,mean_diff_temp_corrloop,std_diff_temp_corrloop = pressure_temperature_variance(final_df,\"CORROSION_LOOP\") \n",
    "\n",
    "print (\"Corrosion loop pressure difference (max): {}\".format(max_diff_press_corrloop))\n",
    "print (\"Corrosion loop pressure difference (mean): {}\".format(mean_diff_press_corrloop))\n",
    "print (\"Corrosion loop pressure difference (std): {}\".format(std_diff_press_corrloop))\n",
    "print (\"\")\n",
    "print (\"Corrosion loop temperature difference (max): {}\".format(max_diff_temp_corrloop))\n",
    "print (\"Corrosion loop temperature difference (mean): {}\".format(mean_diff_temp_corrloop))\n",
    "print (\"Corrosion loop temperature difference (std): {}\".format(std_diff_temp_corrloop))"
   ]
  },
  {
   "cell_type": "markdown",
   "metadata": {
    "collapsed": true
   },
   "source": [
    "# 6.0. Comparison between algorithm and manual work"
   ]
  },
  {
   "cell_type": "markdown",
   "metadata": {},
   "source": [
    "### Algorithm result"
   ]
  },
  {
   "cell_type": "code",
   "execution_count": 25,
   "metadata": {
    "scrolled": true
   },
   "outputs": [
    {
     "name": "stdout",
     "output_type": "stream",
     "text": [
      "Total number of piping group: 256\n",
      "Mean inertia: 668.8359170768148\n",
      "\n",
      "Corrosion loop pressure difference (max): 10.0\n",
      "Corrosion loop pressure difference (mean): 1.174609375\n",
      "Corrosion loop pressure difference (std): 2.4490614136027777\n",
      "\n",
      "Corrosion loop temperature difference (max): 77.0\n",
      "Corrosion loop temperature difference (mean): 4.272265625\n",
      "Corrosion loop temperature difference (std): 11.63501023128507\n"
     ]
    }
   ],
   "source": [
    "final_df_test_1025_80, mean_inertia_test_1025_80 = corrosion_loop(piping_groupings, 80, 10.25)\n",
    "\n",
    "max_diff_press_pipgroup_1025_80, mean_diff_press_pipgroup_1025_80, std_diff_press_pipgroup_1025_80, max_diff_temp_pipgroup_1025_80, mean_diff_temp_pipgroup_1025_80, std_diff_temp_pipgroup_1025_80 = pressure_temperature_variance(final_df_test_1025_80,\"CORROSION_LOOP\") \n",
    "print(\"Total number of piping group: {}\".format(len(final_df_test_1025_80[\"CORROSION_LOOP\"].unique())))\n",
    "print(\"Mean inertia: {}\".format(mean_inertia_test_1025_80))\n",
    "print (\"\")\n",
    "print (\"Corrosion loop pressure difference (max): {}\".format(max_diff_press_pipgroup_1025_80))\n",
    "print (\"Corrosion loop pressure difference (mean): {}\".format(mean_diff_press_pipgroup_1025_80))\n",
    "print (\"Corrosion loop pressure difference (std): {}\".format(std_diff_press_pipgroup_1025_80))\n",
    "print (\"\")\n",
    "print (\"Corrosion loop temperature difference (max): {}\".format(max_diff_temp_pipgroup_1025_80))\n",
    "print (\"Corrosion loop temperature difference (mean): {}\".format(mean_diff_temp_pipgroup_1025_80))\n",
    "print (\"Corrosion loop temperature difference (std): {}\".format(std_diff_temp_pipgroup_1025_80))"
   ]
  },
  {
   "cell_type": "markdown",
   "metadata": {},
   "source": [
    "### Manual work result "
   ]
  },
  {
   "cell_type": "code",
   "execution_count": 26,
   "metadata": {},
   "outputs": [
    {
     "name": "stdout",
     "output_type": "stream",
     "text": [
      "Total number of piping group: 256\n",
      "\n",
      "Corrosion loop pressure difference (max): 67.0\n",
      "Corrosion loop pressure difference (mean): 2.4406249999999994\n",
      "Corrosion loop pressure difference (std): 7.630181942168097\n",
      "\n",
      "Corrosion loop temperature difference (max): 130.0\n",
      "Corrosion loop temperature difference (mean): 7.578906249999999\n",
      "Corrosion loop temperature difference (std): 20.44060607805539\n"
     ]
    }
   ],
   "source": [
    "# Pressure variance and temperature variance for piping group\n",
    "max_diff_press_pipgroup,mean_diff_press_pipgroup,std_diff_press_pipgroup,max_diff_temp_pipgroup,mean_diff_temp_pipgroup,std_diff_temp_pipgroup = pressure_temperature_variance(final_df,\"PIPING_GROUP\")\n",
    "\n",
    "print(\"Total number of piping group: {}\".format(len(final_df[\"PIPING_GROUP\"].unique())))\n",
    "print (\"\")\n",
    "print (\"Corrosion loop pressure difference (max): {}\".format(max_diff_press_pipgroup))\n",
    "print (\"Corrosion loop pressure difference (mean): {}\".format(mean_diff_press_pipgroup))\n",
    "print (\"Corrosion loop pressure difference (std): {}\".format(std_diff_press_pipgroup))\n",
    "print (\"\")\n",
    "print (\"Corrosion loop temperature difference (max): {}\".format(max_diff_temp_pipgroup))\n",
    "print (\"Corrosion loop temperature difference (mean): {}\".format(mean_diff_temp_pipgroup))\n",
    "print (\"Corrosion loop temperature difference (std): {}\".format(std_diff_temp_pipgroup))"
   ]
  },
  {
   "cell_type": "code",
   "execution_count": 27,
   "metadata": {
    "collapsed": true
   },
   "outputs": [],
   "source": [
    "#For computing average inertia with standard scaler and all features\n",
    "from sklearn.preprocessing import StandardScaler\n",
    "from sklearn.preprocessing import MinMaxScaler\n",
    "\n",
    "def corrosion_loop_inertia_standardscaler_all(df,column):\n",
    "    features = ['UNIT', 'FLUID_CODE', 'PIPING_SPEC','PHASE', 'OPERATING_PRESS(BARG)', \n",
    "                'OPERATING_TEMP(C)','INSULATION_CODE', 'PAINT']\n",
    "    df_dummies = df[features]\n",
    "    df_dummies = pd.get_dummies(df_dummies)\n",
    "    \n",
    "    list_inertia = []\n",
    "    \n",
    "    #Scaling features\n",
    "    for col in df_dummies.columns:\n",
    "        df_dummies[col] = StandardScaler().fit_transform(df_dummies[col].values.reshape(-1,1))\n",
    "    \n",
    "    final_features = df_dummies.columns\n",
    "    \n",
    "    df_dummies[\"CORROSION_LOOP\"] = df[\"CORROSION_LOOP\"]\n",
    "    df_dummies[\"PIPING_GROUP\"] = df[\"PIPING_GROUP\"]\n",
    "    grouped_df = df_dummies.groupby(column)\n",
    "    \n",
    "    #Calculating inertia\n",
    "    for key, row in grouped_df:\n",
    "        group_inertia = []\n",
    "        for col in final_features:\n",
    "            dist = (row[col] - np.mean(row[col]))**2\n",
    "            group_inertia.append(np.sum(dist))\n",
    "        sum_inertia = np.sum(group_inertia)\n",
    "        list_inertia.append(sum_inertia)\n",
    "    avg_inertia = np.mean(list_inertia)\n",
    "    \n",
    "    return avg_inertia, list_inertia"
   ]
  },
  {
   "cell_type": "code",
   "execution_count": 28,
   "metadata": {},
   "outputs": [
    {
     "name": "stdout",
     "output_type": "stream",
     "text": [
      "Average inertia value of the algorithm: 0.3903523589289577\n",
      "Standard deviation of inertia value of the algorithm: 2.4992826229969882\n",
      "Number of corrosion loop from the algorithm: 256\n"
     ]
    }
   ],
   "source": [
    "avg_inertia_kmeans, list_inertia_kmeans = corrosion_loop_inertia_standardscaler_all(final_df_test_1025_80,\"CORROSION_LOOP\")\n",
    "std_inertia_kmeans = np.std(list_inertia_kmeans)\n",
    "n_kmeans = len(list_inertia_kmeans)\n",
    "print(\"Average inertia value of the algorithm: {}\".format(avg_inertia_kmeans))\n",
    "print(\"Standard deviation of inertia value of the algorithm: {}\".format(std_inertia_kmeans))\n",
    "print(\"Number of corrosion loop from the algorithm: {}\".format(n_kmeans))"
   ]
  },
  {
   "cell_type": "code",
   "execution_count": 29,
   "metadata": {},
   "outputs": [
    {
     "name": "stdout",
     "output_type": "stream",
     "text": [
      "Average inertia value of the manual work: 26.609086362999\n",
      "Standard deviation of inertia value of the manual work: 167.53077682028368\n",
      "Number of corrosion loop from the manual work: 256\n"
     ]
    }
   ],
   "source": [
    "avg_inertia_mwork, list_inertia_mwork = corrosion_loop_inertia_standardscaler_all(final_df_test_1025_80,\"PIPING_GROUP\")\n",
    "std_inertia_mwork = np.std(list_inertia_mwork)\n",
    "n_mwork = len(list_inertia_mwork)\n",
    "print(\"Average inertia value of the manual work: {}\".format(avg_inertia_mwork))\n",
    "print(\"Standard deviation of inertia value of the manual work: {}\".format(std_inertia_mwork))\n",
    "print(\"Number of corrosion loop from the manual work: {}\".format(n_mwork))"
   ]
  },
  {
   "cell_type": "code",
   "execution_count": 30,
   "metadata": {},
   "outputs": [
    {
     "data": {
      "text/plain": [
       "Ttest_indResult(statistic=2.4988424967713896, pvalue=0.013089550785996244)"
      ]
     },
     "execution_count": 30,
     "metadata": {},
     "output_type": "execute_result"
    }
   ],
   "source": [
    "#Use 2 sample t-test with non-equal variance\n",
    "from scipy.stats import ttest_ind\n",
    "\n",
    "test_ttest = ttest_ind(list_inertia_mwork, list_inertia_kmeans, equal_var=False)\n",
    "test_ttest"
   ]
  },
  {
   "cell_type": "code",
   "execution_count": 31,
   "metadata": {},
   "outputs": [
    {
     "name": "stdout",
     "output_type": "stream",
     "text": [
      "Standard error of mean difference: 10.471838648033986\n"
     ]
    }
   ],
   "source": [
    "#t-test standard error of mean difference\n",
    "def t_test_avg_std_n(n1,n2,s1,s2):\n",
    "    return np.sqrt(((s1**2)/n1) + ((s2**2)/n2))\n",
    "\n",
    "avg_std_ttest_n_eq_var = t_test_avg_std_n(n_mwork,n_kmeans,std_inertia_mwork,std_inertia_kmeans)\n",
    "print(\"Standard error of mean difference: {}\".format(avg_std_ttest_n_eq_var))"
   ]
  },
  {
   "cell_type": "code",
   "execution_count": 32,
   "metadata": {},
   "outputs": [
    {
     "name": "stdout",
     "output_type": "stream",
     "text": [
      "Degree of Freedom: 255.113504136565\n"
     ]
    }
   ],
   "source": [
    "#Degree of freedom calculation\n",
    "def df_n_eq_var(n1,n2,s1,s2):\n",
    "    x = (((s1**2)/n1) + ((s2**2)/n2))**2\n",
    "    y = ((((s1**2)/n1)**2)/(n1-1)) + ((((s2**2)/n2)**2)/(n2-1))\n",
    "    return x/y\n",
    "\n",
    "df_n_eq = df_n_eq_var(n_mwork,n_kmeans,std_inertia_mwork,std_inertia_kmeans)\n",
    "print(\"Degree of Freedom: {}\".format(df_n_eq))"
   ]
  },
  {
   "cell_type": "code",
   "execution_count": 33,
   "metadata": {},
   "outputs": [
    {
     "name": "stdout",
     "output_type": "stream",
     "text": [
      "Upper limit 95% confidence interval: 46.74353775421665\n",
      "Lower limit 95% confidence interval: 5.693930253923433\n"
     ]
    }
   ],
   "source": [
    "#95% confidence interval\n",
    "upper = (avg_inertia_mwork-avg_inertia_kmeans) + 1.96*(avg_std_ttest_n_eq_var)\n",
    "lower = (avg_inertia_mwork-avg_inertia_kmeans) - 1.96*(avg_std_ttest_n_eq_var)\n",
    "print(\"Upper limit 95% confidence interval: {}\".format(upper))\n",
    "print(\"Lower limit 95% confidence interval: {}\".format(lower))"
   ]
  }
 ],
 "metadata": {
  "kernelspec": {
   "display_name": "Python 3",
   "language": "python",
   "name": "python3"
  },
  "language_info": {
   "codemirror_mode": {
    "name": "ipython",
    "version": 3
   },
   "file_extension": ".py",
   "mimetype": "text/x-python",
   "name": "python",
   "nbconvert_exporter": "python",
   "pygments_lexer": "ipython3",
   "version": "3.6.3"
  }
 },
 "nbformat": 4,
 "nbformat_minor": 2
}
