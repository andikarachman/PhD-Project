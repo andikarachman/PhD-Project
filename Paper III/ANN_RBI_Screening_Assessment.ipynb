{
 "cells": [
  {
   "cell_type": "markdown",
   "metadata": {},
   "source": [
    "# Artificial Neural Network Model for Risk-Based Inspection Screening Assessment of Oil and Gas Production System"
   ]
  },
  {
   "cell_type": "markdown",
   "metadata": {},
   "source": [
    "# 1.0. Import Packages"
   ]
  },
  {
   "cell_type": "code",
   "execution_count": 4,
   "metadata": {
    "collapsed": true
   },
   "outputs": [],
   "source": [
    "# Import data analysis packages\n",
    "import pandas as pd\n",
    "import numpy as np\n",
    "import xlrd\n",
    "\n",
    "# Import data visualization packages\n",
    "import matplotlib.pyplot as plt\n",
    "import seaborn as sns\n",
    "%matplotlib inline\n",
    "\n",
    "# Import feature/model selection and feature preprocessing packages\n",
    "from sklearn.preprocessing import minmax_scale, StandardScaler, LabelEncoder\n",
    "from sklearn.model_selection import train_test_split, GridSearchCV, StratifiedKFold, KFold, RandomizedSearchCV\n",
    "\n",
    "# Import metrics packages\n",
    "from sklearn.metrics import accuracy_score, recall_score, precision_score, confusion_matrix \n",
    "from sklearn.metrics import roc_curve, roc_auc_score, precision_recall_curve, average_precision_score \n",
    "from sklearn.metrics import classification_report \n",
    "\n",
    "# Import ANN package\n",
    "from sklearn.neural_network import MLPClassifier\n",
    "\n",
    "# Miscellaneous\n",
    "import itertools\n",
    "from datetime import datetime"
   ]
  },
  {
   "cell_type": "markdown",
   "metadata": {},
   "source": [
    "# 2.0. Data Import"
   ]
  },
  {
   "cell_type": "code",
   "execution_count": 5,
   "metadata": {
    "collapsed": true
   },
   "outputs": [],
   "source": [
    "def import_excel(file, sheet_name):\n",
    "    file = xlrd.open_workbook(file)\n",
    "    sheet = file.sheet_by_name(sheet_name)\n",
    "    columns = sheet.row_values(0)\n",
    "    data = []\n",
    "    for i in range(1,sheet.nrows):\n",
    "        row = sheet.row_values(i)\n",
    "        data.append(row)\n",
    "    df = pd.DataFrame(data, columns=columns)\n",
    "    _, unique_columns = np.unique(df.columns, return_index=True)\n",
    "    df = df.iloc[:, unique_columns]\n",
    "    df.set_index(\"Component\", inplace=True)\n",
    "    return df\n",
    "\n",
    "df_F1 = import_excel(\"Complete Result - F1 - Rev1.xlsx\", \"Complete Export\")\n",
    "df_F2 = import_excel(\"Complete Result - F2 - Rev0.xlsx\", \"Complete Export\")\n",
    "df_F3 = import_excel(\"Complete Result - F3 - Rev2.xlsx\", \"Complete Export\")\n",
    "df_F4 = import_excel(\"Complete Result - F4 - Rev1.xlsx\", \"Complete Export\")\n",
    "df_F5 = import_excel(\"Complete Result - F5 - Rev1.xlsx\", \"Complete Export\")\n",
    "df_F6 = import_excel(\"Complete Result - F6 - Rev1.xlsx\", \"Complete Export\")\n",
    "df_F7 = import_excel(\"Complete Result - F7 - Rev0.xlsx\", \"Complete Export\")"
   ]
  },
  {
   "cell_type": "markdown",
   "metadata": {},
   "source": [
    "# 3.0. Feature Selection"
   ]
  },
  {
   "cell_type": "markdown",
   "metadata": {},
   "source": [
    "Ten input features are selected:\n",
    "- Material of construction\n",
    "- Equipment type\n",
    "- Equipment diameter\n",
    "- Commissioning date\n",
    "- Post-weld heat treatment (PWHT)\n",
    "- Insulation type\n",
    "- Operating pressure\n",
    "- Operating temperature\n",
    "- Fluid containment\n",
    "- Corrosion allowance"
   ]
  },
  {
   "cell_type": "markdown",
   "metadata": {},
   "source": [
    "# 4.0. Data Pre-Processing"
   ]
  },
  {
   "cell_type": "markdown",
   "metadata": {},
   "source": [
    "## 4.1. Combine data "
   ]
  },
  {
   "cell_type": "code",
   "execution_count": 6,
   "metadata": {},
   "outputs": [
    {
     "name": "stderr",
     "output_type": "stream",
     "text": [
      "/anaconda3/lib/python3.6/site-packages/ipykernel_launcher.py:1: FutureWarning: Sorting because non-concatenation axis is not aligned. A future version\n",
      "of pandas will change to not sort by default.\n",
      "\n",
      "To accept the future behavior, pass 'sort=False'.\n",
      "\n",
      "To retain the current behavior and silence the warning, pass 'sort=True'.\n",
      "\n",
      "  \"\"\"Entry point for launching an IPython kernel.\n"
     ]
    }
   ],
   "source": [
    "df = pd.concat([df_F1, df_F2, df_F3, df_F4, df_F5, df_F6, df_F7])"
   ]
  },
  {
   "cell_type": "markdown",
   "metadata": {},
   "source": [
    "## 4.2. Drop unnecessary features "
   ]
  },
  {
   "cell_type": "code",
   "execution_count": 7,
   "metadata": {
    "collapsed": true
   },
   "outputs": [],
   "source": [
    "features = [\"Plant\", \"Unit\", \"Component Type\", \n",
    "            \"Risk Matrix\", \"Process_Fluid\",\n",
    "            \"Operating_Pressure\", \"Operating_Temperature\",\n",
    "            \"Corrosion_Allow\", \"BM_MATERIAL\", \"Component_Start_Date\", \n",
    "            \"PWHT\", \"Insulation\", \"Diameter_InnerDiameter\"]\n",
    "df = df[features]"
   ]
  },
  {
   "cell_type": "markdown",
   "metadata": {},
   "source": [
    "## 4.3. Feature engineering"
   ]
  },
  {
   "cell_type": "markdown",
   "metadata": {},
   "source": [
    "### 4.3.1. Risk matrix "
   ]
  },
  {
   "cell_type": "code",
   "execution_count": 8,
   "metadata": {
    "collapsed": true
   },
   "outputs": [],
   "source": [
    "#Removing rows with empty risk values\n",
    "df = df.loc[df[\"Risk Matrix\"]!=\"\"]"
   ]
  },
  {
   "cell_type": "code",
   "execution_count": 9,
   "metadata": {
    "collapsed": true
   },
   "outputs": [],
   "source": [
    "#Replacing the Risk Matrix values\n",
    "matrix_dict = {'1A':1, '1B':0, '1C':0, '2B':0, \n",
    "               '1D':0, '1E':0, '2E':0, '2C':0, \n",
    "               '2A':0, '2D':0, '3E':0, '3B':0, \n",
    "               '3A':0,'3C':0, '4A':0, '4B':0, \n",
    "               '4C':0, '4D':0}\n",
    "\n",
    "df[\"Risk Matrix\"].replace(matrix_dict, inplace=True)"
   ]
  },
  {
   "cell_type": "markdown",
   "metadata": {},
   "source": [
    "### 4.3.2. Material type"
   ]
  },
  {
   "cell_type": "code",
   "execution_count": 10,
   "metadata": {
    "collapsed": true
   },
   "outputs": [],
   "source": [
    "#Removing rows with empty material values\n",
    "df = df.loc[(df[\"BM_MATERIAL\"]!=\"\") & (df[\"BM_MATERIAL\"]!=145)]"
   ]
  },
  {
   "cell_type": "code",
   "execution_count": 11,
   "metadata": {
    "collapsed": true
   },
   "outputs": [],
   "source": [
    "#Replacing the material value with simpler material name\n",
    "def replace_material(value, init_string, repl_string):\n",
    "    if init_string in value:\n",
    "        value = repl_string\n",
    "    return value"
   ]
  },
  {
   "cell_type": "code",
   "execution_count": 12,
   "metadata": {
    "collapsed": true
   },
   "outputs": [],
   "source": [
    "df[\"BM_MATERIAL\"] = df[\"BM_MATERIAL\"].apply(lambda x: x.split())\n",
    "df[\"BM_MATERIAL\"] = df[\"BM_MATERIAL\"].apply(lambda x: replace_material(x, \"A106\", \"Carbon_Steel\"))\n",
    "df[\"BM_MATERIAL\"] = df[\"BM_MATERIAL\"].apply(lambda x: replace_material(x, \"SA106\", \"Carbon_Steel\"))\n",
    "df[\"BM_MATERIAL\"] = df[\"BM_MATERIAL\"].apply(lambda x: replace_material(x, \"A516\", \"Carbon_Steel\"))\n",
    "df[\"BM_MATERIAL\"] = df[\"BM_MATERIAL\"].apply(lambda x: replace_material(x, \"SA516\", \"Carbon_Steel\"))\n",
    "df[\"BM_MATERIAL\"] = df[\"BM_MATERIAL\"].apply(lambda x: replace_material(x, \"316L\", \"SS316L\"))\n",
    "df[\"BM_MATERIAL\"] = df[\"BM_MATERIAL\"].apply(lambda x: replace_material(x, \"TP316L\", \"SS316L\"))\n",
    "df[\"BM_MATERIAL\"] = df[\"BM_MATERIAL\"].apply(lambda x: replace_material(x, \"A790\", \"22Cr\"))\n",
    "df[\"BM_MATERIAL\"] = df[\"BM_MATERIAL\"].apply(lambda x: replace_material(x, \"A333\", \"Carbon_Steel\"))\n",
    "df[\"BM_MATERIAL\"] = df[\"BM_MATERIAL\"].apply(lambda x: replace_material(x, \"SA333\", \"Carbon_Steel\"))\n",
    "df[\"BM_MATERIAL\"] = df[\"BM_MATERIAL\"].apply(lambda x: replace_material(x, \"SA240\", \"22Cr\"))\n",
    "df[\"BM_MATERIAL\"] = df[\"BM_MATERIAL\"].apply(lambda x: replace_material(x, \"SA789\", \"22Cr\"))\n",
    "df[\"BM_MATERIAL\"] = df[\"BM_MATERIAL\"].apply(lambda x: replace_material(x, \"API5LDS\", \"Carbon_Steel\"))\n",
    "df[\"BM_MATERIAL\"] = df[\"BM_MATERIAL\"].apply(lambda x: replace_material(x, \"SA179\", \"Carbon_Steel\"))\n",
    "df[\"BM_MATERIAL\"] = df[\"BM_MATERIAL\"].apply(lambda x: replace_material(x, \"SA53\", \"Carbon_Steel\"))\n",
    "df[\"BM_MATERIAL\"] = df[\"BM_MATERIAL\"].apply(lambda x: replace_material(x, \"SA283\", \"Carbon_Steel\"))\n",
    "df[\"BM_MATERIAL\"] = df[\"BM_MATERIAL\"].apply(lambda x: replace_material(x, \"A283\", \"Carbon_Steel\"))\n",
    "df[\"BM_MATERIAL\"] = df[\"BM_MATERIAL\"].apply(lambda x: replace_material(x, \"SA36\", \"Carbon_Steel\"))\n",
    "df[\"BM_MATERIAL\"] = df[\"BM_MATERIAL\"].apply(lambda x: replace_material(x, \"A36M\", \"Carbon_Steel\"))\n",
    "df[\"BM_MATERIAL\"] = df[\"BM_MATERIAL\"].apply(lambda x: replace_material(x, \"SB209\", \"Aluminum\"))\n",
    "df[\"BM_MATERIAL\"] = df[\"BM_MATERIAL\"].apply(lambda x: replace_material(x, \"SA182\", \"SS316L\"))"
   ]
  },
  {
   "cell_type": "markdown",
   "metadata": {},
   "source": [
    "### 4.3.3. Process fluid "
   ]
  },
  {
   "cell_type": "code",
   "execution_count": 13,
   "metadata": {
    "collapsed": true
   },
   "outputs": [],
   "source": [
    "# Generalize process fluid\n",
    "\n",
    "fluid_dict_F1 = {'Stream 10':0, 'Stream 14':0, 'Stream 15':0, 'Stream 17':0, 'Stream 20':0,\n",
    "                  'Stream 21':0, 'Stream 22':0, 'Stream 26':2, 'Stream 27':2, 'Stream 29':2,\n",
    "                  'Stream 3':2, 'Stream 31':2, 'Stream 32':2, 'Stream 36':2, 'Stream 39':2,\n",
    "                  'Stream 4':2, 'Stream 40':2, 'Stream 46':1, 'Stream 47':0, 'Stream 5':2,\n",
    "                  'Stream 50':0, 'Stream 54':2, 'Stream 55':2, 'Stream 57':2, 'Stream 6':2,\n",
    "                  'Stream 60':2, 'Stream 62':2, 'Stream 65':2, 'Stream 67':2, 'Stream 7':2,\n",
    "                  'Stream 70':2, 'Stream 72':2, 'Stream 75':2, 'Stream 78':2, 'Stream 79':2,\n",
    "                  'Stream 8':2, 'Stream 81':2, 'Stream 83':2, 'Stream 84':2, 'Stream 86':2,\n",
    "                  'Stream 87':2, 'Stream 88':2, 'Stream 89':2, 'Stream 9':1, 'Water':0}\n",
    "\n",
    "df.loc[df[\"Plant\"] == \"F1\",\"Fluid_Type\"] = df.loc[df[\"Plant\"] == \"F1\", \n",
    "                                                   \"Process_Fluid\"].replace(fluid_dict_F1).values\n",
    "\n",
    "#------------------------------------------------------------------------------------------------------------------\n",
    "fluid_dict_ = {'Air':0, 'Diesel':1, 'Fresh Water':0, 'Sea Water':0, 'AFF':0, 'Fuel Gas':1,\n",
    "                  'Lube Oil':0, 'Nitrogen':0}\n",
    "\n",
    "df.loc[df[\"Plant\"] == \"F2\", \"Fluid_Type\"] = df.loc[df[\"Plant\"] == \"F2\", \n",
    "                                                    \"Process_Fluid\"].replace(fluid_dict_F2).values\n",
    "\n",
    "#------------------------------------------------------------------------------------------------------------------\n",
    "fluid_dict_F3 = {'68C1, 5C2, 3C3, 10C4, 10H2O':2, '46H2O, 9C1, 37C4':2,\n",
    "                  '83C1, 5C2, 3C3, 3C4, 4CO2':2, '5C1, 3C2, 8C3, 82C4, 1CO2':1,\n",
    "                  'Mothball Fluid':0, 'Produced Water Combined Inlet':0,\n",
    "                  '17C1, 4C2, 8C3, 69C4, 2CO2':2, '84C1, 5C2, 3C3, 2C4, 4CO2':2,\n",
    "                  'Amine Contactor Liquid':2, 'Heating Medium':0,\n",
    "                  'Condensate from Stabilizer':1, 'Air':0, 'Water':0, 'Fuel Gas Heater':2,\n",
    "                  'Oxidation Air':0, 'Ucarsol HS 10':0, 'Ucarsol HS 10 with less CO2':0,\n",
    "                  'Lean Ucarsol 10.21':0, 'Amine Regenerator':0,\n",
    "                  'Ucarsol 6ppm Reflux Liquid':0, 'Sea water':0, 'Amine Inlet KOD':0,\n",
    "                  'Amine Contactor Vapor':2, 'Amine Overhead Gas':0, 'Amine Flash Gas':2,\n",
    "                  'Acid Gas':0, 'Fuel Gas':2, 'SH Gas':0, 'Lean TEG':0, 'Hot Rich TEG':0,\n",
    "                  'TEG Stripping Gas':2, 'TEG Reflux Condenser':0, 'EG':0, 'TEG Make Up':0,\n",
    "                  'TEG Vapor Outlet':2, 'TEG Flash Gas':2, 'Closed Drain Liquid':0,\n",
    "                  'Sales Gas':2, 'Liquid Dew Point':1, 'Scrubber 2nd Liquid Outlet':1,\n",
    "                  'Scrubber Water Outlet':0, 'Scrubber Liquid Outlet':0,\n",
    "                  'Produced Water Acid Gas':2, 'HP Flare Drain':0,\n",
    "                  'Drain Vessel Inlet from 150':1, 'HP Flare KOD Vap':2, 'LP Flare Inlet':0,\n",
    "                  'Diesel':1, 'C6-C8':2, 'AFFF Fluid':0, 'Effluent Oily Water':0,\n",
    "                  'Effluent Oil':1, 'Produced Water Fluid':0, 'TEG Acid Flare':0,\n",
    "                  'Acid Flare Header':0, 'Acid Flare 3-4':1, 'Drain From Produce Water':1,\n",
    "                  'Nitrogen':0}\n",
    "\n",
    "df.loc[df[\"Plant\"] == \"F3\", \"Fluid_Type\"] = df.loc[df[\"Plant\"] == \"F3\", \n",
    "                                                    \"Process_Fluid\"].replace(fluid_dict_F3).values\n",
    "\n",
    "#------------------------------------------------------------------------------------------------------------------\n",
    "fluid_dict_F4 = {'Heating Medium System':0, 'Water Outlet':0, 'Oily Water':0,\n",
    "                   '332-V-03 Process Gas':2, 'Fuel Gas':2, 'Diesel':1, 'C5':1, 'Process Gas':2,\n",
    "                   'Regen Gas Cooler Outlet':2, 'Mol Sieve inlet':2, 'Regen Gas Outlet':2,\n",
    "                   'Regen Scrubber Bottom':0, 'Recompressor Gas':2, 'Lube Oil':0,\n",
    "                   'Closed Drain Fluid':2, 'Depropanizer Condenser Gas Outlet':2, 'Air':0,\n",
    "                   'Methanol':0, 'Water':0, 'Effluent':1, 'Cold Separator Gas':2,\n",
    "                   'Cold Separator Liquid':1, 'Deethanizer Exchanger Hot Side':2,\n",
    "                   'Deethanizer Top Outlet':2, 'Deethanizer Side Product':2,\n",
    "                   'Propane Liq from Deethanizer':2, 'Depropanizer Side Outlet':2,\n",
    "                   'Debutanizer Top Product':2, 'Debutanizer Reboiler Vap Outlet':1,\n",
    "                   'Debuthanizer Side Outlet':1, 'Deethanizer Accumulator Liquid Outlet':2,\n",
    "                   'Deethanizer Accumulator Gas Outlet':2, 'Deethanizer Bottom Outlet':2,\n",
    "                   'Depropanizer Reboiler Vap Outlet':2, 'Depropanizer Bottom Product':2,\n",
    "                   'Debuthanizer Bottom Product':1, 'Propane Treater Mixed HC':2,\n",
    "                   'Process Liquid':1, 'HP Flash Separator Gas':2, 'Fresh Water':0,\n",
    "                   'Nitrogen':0, '1st Stage Flash Gas Compressor Fluid':2, 'Flashed Gas':0}\n",
    "\n",
    "df.loc[df[\"Plant\"] == \"F4\", \"Fluid_Type\"] = df.loc[df[\"Plant\"] == \"F4\", \n",
    "                                                     \"Process_Fluid\"].replace(fluid_dict_F4).values\n",
    "\n",
    "#------------------------------------------------------------------------------------------------------------------\n",
    "fluid_dict_F5 = {'Heating Medium System':0, 'HP Flash Heater':2, 'Process Liquid':1,\n",
    "                  'HP Flash Separator Inlet':2, 'HP Flash Separator Gas':2, 'Water CO2':0,\n",
    "                  'Water Outlet':0, 'LP Electrostatic Gas':2,\n",
    "                  '1st Stage Flash Gas Compressor Fluid':2, 'LP Electrostatic Inlet':2,\n",
    "                  'Atmospheric Flash Separator Gas':2, 'Flash Separator Liquid':1,\n",
    "                  'Oily Water':0, 'C17-C25':1}\n",
    "\n",
    "df.loc[df[\"Plant\"] == \"F5\", \"Fluid_Type\"] = df.loc[df[\"Plant\"] == \"F5\", \n",
    "                                                    \"Process_Fluid\"].replace(fluid_dict_F5).values\n",
    "\n",
    "#------------------------------------------------------------------------------------------------------------------\n",
    "fluid_dict_F6 = {'Stream 10':2, 'Stream 14':2, 'Stream 9':2, 'Stream 6':2, 'Stream 3':2,\n",
    "                   'Diesel':1, 'Air':0, 'Nitrogen':0, 'Water':0, 'Stream 2':2, 'Stream 5':2}\n",
    "\n",
    "df.loc[df[\"Plant\"] == \"F6\", \"Fluid_Type\"] = df.loc[df[\"Plant\"] == \"F6\", \n",
    "                                                      \"Process_Fluid\"].replace(fluid_dict_F6).values\n",
    "\n",
    "#------------------------------------------------------------------------------------------------------------------\n",
    "fluid_dict_F7 = {'Oil Well':2, 'Gas Well':2, 'Fluid from CPP':2, 'WHP-A Fluid':0,\n",
    "                   'Utility Air':0, 'Water':0, 'Nitrogen':0, 'Diesel':1, 'Production Line':2,\n",
    "                   'Firewater':0, 'Gas Lift':2, 'WHP-A Pig Receiver Inlet Fluid':1}\n",
    "\n",
    "df.loc[df[\"Plant\"] == \"F7\", \"Fluid_Type\"] = df.loc[df[\"Plant\"] == \"F7\", \n",
    "                                                      \"Process_Fluid\"].replace(fluid_dict_F7).values\n",
    "\n",
    "#------------------------------------------------------------------------------------------------------------------\n",
    "def convert_fluid_type(x):\n",
    "    if x == 0:\n",
    "        x = \"NonHC\"\n",
    "    elif x == 1:\n",
    "        x = \"HeavyHC\"\n",
    "    else:\n",
    "        x = \"LightHC\"\n",
    "    return x\n",
    "\n",
    "df[\"Fluid_Type\"] = df[\"Fluid_Type\"].apply(lambda x: convert_fluid_type(x))"
   ]
  },
  {
   "cell_type": "markdown",
   "metadata": {},
   "source": [
    "### 4.3.4. PWHT "
   ]
  },
  {
   "cell_type": "code",
   "execution_count": 14,
   "metadata": {
    "collapsed": true
   },
   "outputs": [],
   "source": [
    "df[\"PWHT\"] = df[\"PWHT\"].astype(\"category\").cat.codes"
   ]
  },
  {
   "cell_type": "markdown",
   "metadata": {},
   "source": [
    "### 4.3.5. Insulation "
   ]
  },
  {
   "cell_type": "code",
   "execution_count": 15,
   "metadata": {
    "collapsed": true
   },
   "outputs": [],
   "source": [
    "def convert_insulation(x):\n",
    "    if x == \"None\":\n",
    "        x = 0\n",
    "    else:\n",
    "        x = 1\n",
    "    return x\n",
    "\n",
    "df[\"Insulation\"] = df[\"Insulation\"].apply(lambda x: convert_insulation(x))"
   ]
  },
  {
   "cell_type": "markdown",
   "metadata": {},
   "source": [
    "### 4.3.6. Component startdate "
   ]
  },
  {
   "cell_type": "code",
   "execution_count": 16,
   "metadata": {
    "collapsed": true
   },
   "outputs": [],
   "source": [
    "def convert_date(x):\n",
    "    x = datetime.strptime(x, \"%Y-%m-%d\")\n",
    "    return x\n",
    "\n",
    "df[\"Assessment_Date\"] = pd.datetime(2012, 5, 5)\n",
    "df[\"Component_Start_Date\"] = df[\"Component_Start_Date\"].apply(lambda x: convert_date(str(x)))\n",
    "df.loc[df[\"Component_Start_Date\"] == '2013-03-01T00:00:00.000000000', \"Component_Start_Date\"] = pd.datetime(2011,3,11)\n",
    "df[\"Component_Age\"] = (df[\"Assessment_Date\"] - df[\"Component_Start_Date\"]).astype(\"int\") * 3.17098e-17"
   ]
  },
  {
   "cell_type": "markdown",
   "metadata": {},
   "source": [
    "### 4.3.7. Operating pressure"
   ]
  },
  {
   "cell_type": "code",
   "execution_count": 17,
   "metadata": {
    "collapsed": true
   },
   "outputs": [],
   "source": [
    "#Convert operating pressure from string to float\n",
    "df[\"Operating_Pressure\"] = df[\"Operating_Pressure\"].astype(\"float\")"
   ]
  },
  {
   "cell_type": "markdown",
   "metadata": {},
   "source": [
    "### 4.3.8. Operating temperature "
   ]
  },
  {
   "cell_type": "code",
   "execution_count": 18,
   "metadata": {
    "collapsed": true
   },
   "outputs": [],
   "source": [
    "#Convert operating temperature from string to float\n",
    "df[\"Operating_Temperature\"] = df[\"Operating_Temperature\"].astype(\"float\")"
   ]
  },
  {
   "cell_type": "markdown",
   "metadata": {},
   "source": [
    "### 4.3.9. Corrosion allowance "
   ]
  },
  {
   "cell_type": "code",
   "execution_count": 19,
   "metadata": {
    "collapsed": true
   },
   "outputs": [],
   "source": [
    "#Convert corrosion allowance values from string to float\n",
    "df[\"Corrosion_Allow\"] = df[\"Corrosion_Allow\"].apply(lambda x: float(x))"
   ]
  },
  {
   "cell_type": "markdown",
   "metadata": {},
   "source": [
    "### 4.3.10. Diameter "
   ]
  },
  {
   "cell_type": "code",
   "execution_count": 20,
   "metadata": {
    "collapsed": true
   },
   "outputs": [],
   "source": [
    "#Convert diameter values from string to float\n",
    "df[\"Diameter_InnerDiameter\"] = df[\"Diameter_InnerDiameter\"].apply(lambda x: float(x))"
   ]
  },
  {
   "cell_type": "code",
   "execution_count": 21,
   "metadata": {
    "collapsed": true
   },
   "outputs": [],
   "source": [
    "#Dropping unnecessary features\n",
    "dropped_features = [\"Plant\", \"Unit\", \"Process_Fluid\", \"Component_Start_Date\", \"Assessment_Date\"]\n",
    "df_final = df.drop(dropped_features, axis = 1)"
   ]
  },
  {
   "cell_type": "code",
   "execution_count": 22,
   "metadata": {
    "collapsed": true
   },
   "outputs": [],
   "source": [
    "df_encoded = pd.get_dummies(df_final)"
   ]
  },
  {
   "cell_type": "markdown",
   "metadata": {},
   "source": [
    "# 5.0. ANN Model Development"
   ]
  },
  {
   "cell_type": "markdown",
   "metadata": {},
   "source": [
    "## 5.1. Assign X and y"
   ]
  },
  {
   "cell_type": "code",
   "execution_count": 23,
   "metadata": {
    "collapsed": true
   },
   "outputs": [],
   "source": [
    "X = df_encoded.drop(\"Risk Matrix\", axis=1)\n",
    "y = df_encoded[\"Risk Matrix\"]"
   ]
  },
  {
   "cell_type": "markdown",
   "metadata": {},
   "source": [
    "## 5.2. Scale the dataset "
   ]
  },
  {
   "cell_type": "code",
   "execution_count": 24,
   "metadata": {},
   "outputs": [
    {
     "name": "stderr",
     "output_type": "stream",
     "text": [
      "/anaconda3/lib/python3.6/site-packages/sklearn/preprocessing/data.py:625: DataConversionWarning: Data with input dtype int8, uint8, int64, float64 were all converted to float64 by StandardScaler.\n",
      "  return self.partial_fit(X, y)\n",
      "/anaconda3/lib/python3.6/site-packages/ipykernel_launcher.py:3: DataConversionWarning: Data with input dtype int8, uint8, int64, float64 were all converted to float64 by StandardScaler.\n",
      "  This is separate from the ipykernel package so we can avoid doing imports until\n"
     ]
    }
   ],
   "source": [
    "std_scaler = StandardScaler()\n",
    "std_scaler.fit(X)\n",
    "X = std_scaler.transform(X)"
   ]
  },
  {
   "cell_type": "markdown",
   "metadata": {},
   "source": [
    "## 5.3. Train and test set split "
   ]
  },
  {
   "cell_type": "code",
   "execution_count": 25,
   "metadata": {
    "collapsed": true
   },
   "outputs": [],
   "source": [
    "X_train, X_test, y_train, y_test = train_test_split(X, y, test_size = 0.25, stratify = y, random_state = 42)"
   ]
  },
  {
   "cell_type": "markdown",
   "metadata": {},
   "source": [
    "## 5.4. Randomized search CV"
   ]
  },
  {
   "cell_type": "code",
   "execution_count": 26,
   "metadata": {
    "collapsed": true
   },
   "outputs": [],
   "source": [
    "hidden_layer = list(itertools.permutations(np.arange(1,16), 2))\n",
    "activation_function = ['logistic', 'tanh', 'relu']\n",
    "solver = ['lbfgs', 'sgd', 'adam']\n",
    "learning_rate = ['constant', 'invscaling', 'adaptive']\n",
    "param_distributions =  {'hidden_layer_sizes': hidden_layer, \n",
    "                        'activation': activation_function, \n",
    "                        'solver':solver, \n",
    "                        'learning_rate':learning_rate}\n",
    "\n",
    "mlp_ = MLPClassifier(learning_rate_init = 0.001, \n",
    "                     max_iter = 1000, \n",
    "                     random_state = 42, \n",
    "                     n_iter_no_change=2)\n",
    "\n",
    "clf = RandomizedSearchCV(estimator=mlp_, \n",
    "                         param_distributions=param_distributions, \n",
    "                         cv=5, \n",
    "                         scoring='precision', \n",
    "                         n_iter=200)"
   ]
  },
  {
   "cell_type": "markdown",
   "metadata": {},
   "source": [
    "## 5.5. ANN model training"
   ]
  },
  {
   "cell_type": "code",
   "execution_count": 27,
   "metadata": {},
   "outputs": [
    {
     "data": {
      "text/plain": [
       "MLPClassifier(activation='relu', alpha=0.0001, batch_size='auto', beta_1=0.9,\n",
       "       beta_2=0.999, early_stopping=False, epsilon=1e-08,\n",
       "       hidden_layer_sizes=(14, 9), learning_rate='adaptive',\n",
       "       learning_rate_init=0.001, max_iter=1000, momentum=0.9,\n",
       "       n_iter_no_change=2, nesterovs_momentum=True, power_t=0.5,\n",
       "       random_state=42, shuffle=True, solver='adam', tol=0.0001,\n",
       "       validation_fraction=0.1, verbose=False, warm_start=False)"
      ]
     },
     "execution_count": 27,
     "metadata": {},
     "output_type": "execute_result"
    }
   ],
   "source": [
    "mlp = MLPClassifier(learning_rate_init = 0.001, \n",
    "                    max_iter = 1000, \n",
    "                    random_state = 42, \n",
    "                    hidden_layer_sizes=(14,9), \n",
    "                    activation='relu', \n",
    "                    solver='adam', \n",
    "                    learning_rate='adaptive',\n",
    "                    n_iter_no_change=2)\n",
    "\n",
    "mlp.fit(X_train, y_train)"
   ]
  },
  {
   "cell_type": "markdown",
   "metadata": {},
   "source": [
    "## 5.6. Measure performances"
   ]
  },
  {
   "cell_type": "code",
   "execution_count": 28,
   "metadata": {
    "collapsed": true
   },
   "outputs": [],
   "source": [
    "pred = mlp.predict(X_test)\n",
    "pred_prob = mlp.predict_proba(X_test)"
   ]
  },
  {
   "cell_type": "code",
   "execution_count": 29,
   "metadata": {},
   "outputs": [
    {
     "name": "stdout",
     "output_type": "stream",
     "text": [
      "The accuracy of the ANN model: 0.9065656565656566\n"
     ]
    }
   ],
   "source": [
    "print('The accuracy of the ANN model: {}'.format(accuracy_score(y_test, pred)))"
   ]
  },
  {
   "cell_type": "code",
   "execution_count": 30,
   "metadata": {},
   "outputs": [
    {
     "name": "stdout",
     "output_type": "stream",
     "text": [
      "The precision of the ANN model: 0.8275862068965517\n"
     ]
    }
   ],
   "source": [
    "print('The precision of the ANN model: {}'.format(precision_score(y_test, pred)))"
   ]
  },
  {
   "cell_type": "code",
   "execution_count": 31,
   "metadata": {},
   "outputs": [
    {
     "name": "stdout",
     "output_type": "stream",
     "text": [
      "The precision of the ANN model: 0.7659574468085106\n"
     ]
    }
   ],
   "source": [
    "print('The precision of the ANN model: {}'.format(recall_score(y_test, pred)))"
   ]
  },
  {
   "cell_type": "code",
   "execution_count": 32,
   "metadata": {},
   "outputs": [
    {
     "data": {
      "text/plain": [
       "array([[287,  15],\n",
       "       [ 22,  72]])"
      ]
     },
     "execution_count": 32,
     "metadata": {},
     "output_type": "execute_result"
    }
   ],
   "source": [
    "confusion_matrix(y_test, pred)"
   ]
  },
  {
   "cell_type": "code",
   "execution_count": 33,
   "metadata": {
    "collapsed": true
   },
   "outputs": [],
   "source": [
    "precision, recall, thresh = precision_recall_curve(y_test, pred_prob[:,1])"
   ]
  },
  {
   "cell_type": "code",
   "execution_count": 34,
   "metadata": {},
   "outputs": [
    {
     "data": {
      "image/png": "[encoded data removed]",
      "text/plain": [
       "<Figure size 576x432 with 1 Axes>"
      ]
     },
     "metadata": {},
     "output_type": "display_data"
    }
   ],
   "source": [
    "sns.set_style(\"whitegrid\")\n",
    "plt.figure(figsize=(8,6))\n",
    "plt.plot(recall, precision, color = 'red')\n",
    "plt.ylim(0)\n",
    "plt.xlabel('Recall')\n",
    "plt.ylabel('Precision')\n",
    "plt.xticks(np.arange(0,1.1,0.1))\n",
    "plt.yticks(np.arange(0,1.1,0.1))\n",
    "\n",
    "plt.show()"
   ]
  }
 ],
 "metadata": {
  "kernelspec": {
   "display_name": "Python 3",
   "language": "python",
   "name": "python3"
  },
  "language_info": {
   "codemirror_mode": {
    "name": "ipython",
    "version": 3
   },
   "file_extension": ".py",
   "mimetype": "text/x-python",
   "name": "python",
   "nbconvert_exporter": "python",
   "pygments_lexer": "ipython3",
   "version": "3.6.3"
  }
 },
 "nbformat": 4,
 "nbformat_minor": 2
}
